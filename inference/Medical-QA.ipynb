{
 "cells": [
  {
   "cell_type": "code",
   "execution_count": 10,
   "id": "d8ce74b6-77f4-449a-b25d-a4d9d7bb7b9f",
   "metadata": {},
   "outputs": [
    {
     "name": "stdout",
     "output_type": "stream",
     "text": [
      "\n",
      "===================================BUG REPORT===================================\n",
      "Welcome to bitsandbytes. For bug reports, please submit your error trace to: https://github.com/TimDettmers/bitsandbytes/issues\n",
      "================================================================================\n",
      "CUDA SETUP: CUDA runtime path found: /usr/local/cuda/lib64/libcudart.so\n",
      "CUDA SETUP: Highest compute capability among GPUs detected: 7.5\n",
      "CUDA SETUP: Detected CUDA version 110\n",
      "CUDA SETUP: Loading binary /opt/conda/envs/py310/lib/python3.10/site-packages/bitsandbytes/libbitsandbytes_cuda110.so...\n"
     ]
    },
    {
     "name": "stderr",
     "output_type": "stream",
     "text": [
      "/opt/conda/envs/py310/lib/python3.10/site-packages/bitsandbytes/cuda_setup/main.py:136: UserWarning: /opt/conda did not contain libcudart.so as expected! Searching further paths...\n",
      "  warn(msg)\n"
     ]
    }
   ],
   "source": [
    "from glob import glob\n",
    "import re\n",
    "\n",
    "import ipywidgets as widgets\n",
    "from IPython.display import display, HTML, Javascript, clear_output\n",
    "\n",
    "from langchain.document_loaders import DirectoryLoader\n",
    "from langchain.schema import Document\n",
    "from langchain.vectorstores import Qdrant\n",
    "from langchain.embeddings import HuggingFaceEmbeddings\n",
    "from transformers import LlamaForCausalLM, LlamaTokenizer, GenerationConfig\n",
    "from peft import PeftModel"
   ]
  },
  {
   "cell_type": "code",
   "execution_count": 11,
   "id": "6c55a859-abc4-4f50-852e-6c9e4ae37b1f",
   "metadata": {},
   "outputs": [
    {
     "name": "stdout",
     "output_type": "stream",
     "text": [
      "Loading transformer embeddings...\n"
     ]
    },
    {
     "name": "stderr",
     "output_type": "stream",
     "text": [
      "Overriding torch_dtype=None with `torch_dtype=torch.float16` due to requirements of `bitsandbytes` to enable model loading in mixed int8. Either pass torch_dtype=torch.float16 or don't pass this argument at all to remove this warning.\n"
     ]
    },
    {
     "name": "stdout",
     "output_type": "stream",
     "text": [
      "Loading Vicuna tokenizer\n",
      "Loading Vicuna model\n"
     ]
    },
    {
     "data": {
      "application/vnd.jupyter.widget-view+json": {
       "model_id": "bd49d8f3996c44679537199aca7ec217",
       "version_major": 2,
       "version_minor": 0
      },
      "text/plain": [
       "Loading checkpoint shards:   0%|          | 0/3 [00:00<?, ?it/s]"
      ]
     },
     "metadata": {},
     "output_type": "display_data"
    }
   ],
   "source": [
    "# print(\"Loading transformer embeddings...\")\n",
    "# embeddings = HuggingFaceEmbeddings(model_name=\"sentence-transformers/all-mpnet-base-v2\")\n",
    "\n",
    "print(\"Loading Vicuna tokenizer\")\n",
    "tokenizer = LlamaTokenizer.from_pretrained(\"eachadea/vicuna-13b-1.1\")\n",
    "\n",
    "print(\"Loading Vicuna model\")\n",
    "model = LlamaForCausalLM.from_pretrained(\"eachadea/vicuna-13b-1.1\", load_in_8bit=True, device_map=\"auto\")\n",
    "model = PeftModel.from_pretrained(model, \"kmnis/DocScribe\")"
   ]
  },
  {
   "cell_type": "code",
   "execution_count": 12,
   "id": "c4024d2d-abda-4dc9-a4b4-62a772adb981",
   "metadata": {},
   "outputs": [],
   "source": [
    "def get_results(question):\n",
    "    prompt = f\"\"\"### Answer below question truthfully.\n",
    "\n",
    "### Question:\n",
    "{question}\n",
    "\n",
    "### Answer:\n",
    "\"\"\"\n",
    "    inputs = tokenizer(prompt, return_tensors=\"pt\")\n",
    "    input_ids = inputs[\"input_ids\"].cuda()\n",
    "\n",
    "    generation_config = GenerationConfig(temperature=0.6, top_p=0.95, repetition_penalty=1.15)\n",
    "\n",
    "    generation_output = model.generate(input_ids=input_ids, generation_config=generation_config,\n",
    "                                       return_dict_in_generate=True, output_scores=False, max_new_tokens=100)\n",
    "\n",
    "    for out in generation_output.sequences:\n",
    "        out = tokenizer.decode(out)\n",
    "        out = out.split(\"### Answer:\")[1].split(\"</s>\")[0].strip()\n",
    "        print(out + \"\\n\")"
   ]
  },
  {
   "cell_type": "code",
   "execution_count": 4,
   "id": "b2f79b1c-42a6-49f2-8c97-17bc5061b882",
   "metadata": {},
   "outputs": [
    {
     "name": "stdout",
     "output_type": "stream",
     "text": [
      "The symptoms of hay fever include sneezing, itchy eyes, runny nose, and congestion.\n",
      "\n"
     ]
    }
   ],
   "source": [
    "question = \"What are the symptoms of Hay fever?\"\n",
    "get_results(question)"
   ]
  },
  {
   "cell_type": "code",
   "execution_count": 5,
   "id": "de7c58bc-891a-46c0-85bc-fe3fa8c23753",
   "metadata": {},
   "outputs": [
    {
     "name": "stdout",
     "output_type": "stream",
     "text": [
      "The following factors can increase the risk of developing pneumoconiosis:\n",
      "\n",
      "1. Exposure to dusts, such as those found in mining, construction, and agricultural work.\n",
      "2. Prolonged exposure to harmful gases or fumes, such as those found in welding or metalworking.\n",
      "3. Smoking.\n",
      "4. Age (risk increases with age).\n",
      "5. Previous history of lung disease or other occup\n",
      "\n"
     ]
    }
   ],
   "source": [
    "question = \"What factors increase the risk of developing pneumoconiosis?\"\n",
    "get_results(question)"
   ]
  },
  {
   "cell_type": "code",
   "execution_count": 6,
   "id": "4dec35e7-7b20-4572-bd4b-a95252e3054d",
   "metadata": {},
   "outputs": [
    {
     "name": "stdout",
     "output_type": "stream",
     "text": [
      "The ciliary muscle plays a crucial role in controlling the shape and movement of the lens within the eye. It is responsible for changing the curvature of the lens, which in turn changes the focus of the eye. When the ciliary muscle contracts, it causes the lens to become thicker and more curved, allowing the eye to focus on objects that are close by. When the muscle relaxes, the lens becomes flatter and allows\n",
      "\n"
     ]
    }
   ],
   "source": [
    "question = \"What is the role of the ciliary muscle?\"\n",
    "get_results(question)"
   ]
  },
  {
   "cell_type": "code",
   "execution_count": 7,
   "id": "02e0dd4f-e35b-4ef7-9b83-3e2b3f28feff",
   "metadata": {},
   "outputs": [
    {
     "name": "stdout",
     "output_type": "stream",
     "text": [
      "Non-alcoholic fatty liver disease (NAFLD) is a common condition worldwide, affecting approximately 20% to 30% of adults in developed countries [1]. The prevalence of NAFLD increases with obesity, insulin resistance, and type 2 diabetes mellitus [2]. In addition, NAFLD is more common in women than men, particularly in postmenopausal women [\n",
      "\n"
     ]
    }
   ],
   "source": [
    "question = \"What are the epidemiological and demographic characteristics of non-alcoholic fatty liver disease?\"\n",
    "get_results(question)"
   ]
  },
  {
   "cell_type": "code",
   "execution_count": null,
   "id": "db198b62-5d88-49e6-9e8d-af0ce0f615b1",
   "metadata": {},
   "outputs": [],
   "source": []
  },
  {
   "cell_type": "code",
   "execution_count": null,
   "id": "d58ba13c-d4aa-44f7-87f3-a382f86b0259",
   "metadata": {},
   "outputs": [],
   "source": []
  },
  {
   "cell_type": "code",
   "execution_count": null,
   "id": "e7c33b7d-05cf-4cd6-a021-32038a146bda",
   "metadata": {},
   "outputs": [],
   "source": []
  },
  {
   "cell_type": "code",
   "execution_count": null,
   "id": "298dd5ce-0f79-4feb-952a-662a922d5039",
   "metadata": {},
   "outputs": [],
   "source": []
  }
 ],
 "metadata": {
  "environment": {
   "kernel": "py310",
   "name": "common-cu110.m107",
   "type": "gcloud",
   "uri": "gcr.io/deeplearning-platform-release/base-cu110:m107"
  },
  "kernelspec": {
   "display_name": "Python 3 (ipykernel)",
   "language": "python",
   "name": "python3"
  },
  "language_info": {
   "codemirror_mode": {
    "name": "ipython",
    "version": 3
   },
   "file_extension": ".py",
   "mimetype": "text/x-python",
   "name": "python",
   "nbconvert_exporter": "python",
   "pygments_lexer": "ipython3",
   "version": "3.9.15"
  }
 },
 "nbformat": 4,
 "nbformat_minor": 5
}

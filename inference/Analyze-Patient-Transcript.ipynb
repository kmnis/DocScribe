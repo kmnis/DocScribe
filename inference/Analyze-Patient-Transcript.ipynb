{
 "cells": [
  {
   "cell_type": "code",
   "execution_count": 1,
   "id": "20ef3ad1-93ca-4db4-8c39-b358aaefb40d",
   "metadata": {},
   "outputs": [
    {
     "name": "stdout",
     "output_type": "stream",
     "text": [
      "\n",
      "===================================BUG REPORT===================================\n",
      "Welcome to bitsandbytes. For bug reports, please submit your error trace to: https://github.com/TimDettmers/bitsandbytes/issues\n",
      "================================================================================\n",
      "CUDA SETUP: CUDA runtime path found: /usr/local/cuda/lib64/libcudart.so\n",
      "CUDA SETUP: Highest compute capability among GPUs detected: 7.5\n",
      "CUDA SETUP: Detected CUDA version 110\n",
      "CUDA SETUP: Loading binary /opt/conda/envs/py310/lib/python3.10/site-packages/bitsandbytes/libbitsandbytes_cuda110.so...\n"
     ]
    },
    {
     "name": "stderr",
     "output_type": "stream",
     "text": [
      "/opt/conda/envs/py310/lib/python3.10/site-packages/bitsandbytes/cuda_setup/main.py:136: UserWarning: /opt/conda did not contain libcudart.so as expected! Searching further paths...\n",
      "  warn(msg)\n"
     ]
    }
   ],
   "source": [
    "from glob import glob\n",
    "import re\n",
    "\n",
    "import ipywidgets as widgets\n",
    "from IPython.display import display, HTML, Javascript, clear_output\n",
    "\n",
    "from langchain.document_loaders import DirectoryLoader\n",
    "from langchain.schema import Document\n",
    "from langchain.vectorstores import Qdrant\n",
    "from langchain.embeddings import HuggingFaceEmbeddings\n",
    "from transformers import LlamaForCausalLM, LlamaTokenizer, GenerationConfig\n",
    "from peft import PeftModel"
   ]
  },
  {
   "cell_type": "code",
   "execution_count": 5,
   "id": "b36c3673-6541-41e3-85ec-a1aec9156a79",
   "metadata": {},
   "outputs": [],
   "source": [
    "print(\"Loading transformer embeddings...\")\n",
    "embeddings = HuggingFaceEmbeddings(model_name=\"sentence-transformers/all-mpnet-base-v2\")\n",
    "\n",
    "print(\"Loading Vicuna tokenizer\")\n",
    "tokenizer = LlamaTokenizer.from_pretrained(\"eachadea/vicuna-13b-1.1\")\n",
    "\n",
    "print(\"Loading Vicuna model\")\n",
    "model = LlamaForCausalLM.from_pretrained(\"eachadea/vicuna-13b-1.1\", load_in_8bit=True, device_map=\"auto\")\n",
    "model = PeftModel.from_pretrained(model, \"kmnis/DocScribe\")\n",
    "\n",
    "# clear_output()"
   ]
  },
  {
   "cell_type": "code",
   "execution_count": 2,
   "id": "b2015d20-2b92-4e91-aaa6-05820642228d",
   "metadata": {
    "ExecuteTime": {
     "end_time": "2023-05-04T11:12:54.073509Z",
     "start_time": "2023-05-04T11:12:54.070689Z"
    }
   },
   "outputs": [],
   "source": [
    "def run_all_cells_below(ev):\n",
    "    display(\n",
    "        Javascript(\n",
    "            'IPython.notebook.execute_cell_range(IPython.notebook.get_selected_index()+1, IPython.notebook.ncells())'\n",
    "        )\n",
    "    )"
   ]
  },
  {
   "cell_type": "code",
   "execution_count": 3,
   "id": "fd51d383-6eb8-4611-9e8d-c827b4f9f275",
   "metadata": {},
   "outputs": [],
   "source": [
    "def custom_splitter(documents):\n",
    "    docs = []\n",
    "    for d in documents:\n",
    "        doc = []\n",
    "        text = d.page_content\n",
    "        matches = re.findall(\"[,]*[A-Z ]*[,]+[A-Z ]+:[ ]*[,]*[ ]*\", text)\n",
    "        matches.reverse()\n",
    "        for i, m in enumerate(matches):\n",
    "            t = text.rsplit(m, 1)\n",
    "            assert len(t) == 2\n",
    "            m = re.sub(\"[^a-zA-Z ]\", \"\", m).strip()\n",
    "            doc.append(Document(page_content=m + \": \" + t[1], metadata=d.metadata))\n",
    "            text = t[0]\n",
    "\n",
    "            if i == len(matches) - 1:\n",
    "                doc.append(Document(page_content=t[0].strip(), metadata=d.metadata))\n",
    "        doc.reverse()\n",
    "        docs += doc\n",
    "    return docs"
   ]
  },
  {
   "cell_type": "code",
   "execution_count": 5,
   "id": "d25214e0-5d8b-4004-9fa2-411474e55324",
   "metadata": {
    "ExecuteTime": {
     "end_time": "2023-05-04T14:10:40.451118Z",
     "start_time": "2023-05-04T14:10:40.417376Z"
    }
   },
   "outputs": [
    {
     "data": {
      "application/vnd.jupyter.widget-view+json": {
       "model_id": "2dd7f3ae4a424cfb92eda71325d19637",
       "version_major": 2,
       "version_minor": 0
      },
      "text/plain": [
       "VBox(children=(HTML(value='<h2><center>Patient Medical Transcript Analyzer</center></h2>'), HTML(value=\"<i><ce…"
      ]
     },
     "metadata": {},
     "output_type": "display_data"
    }
   ],
   "source": [
    "user_query = widgets.Textarea(\n",
    "    value='Describe the medical history of the patient',\n",
    "    placeholder='Ask a question',\n",
    "    options=patient_names,\n",
    "    description='',\n",
    "    layout=widgets.Layout(width='50%', height='200px'),\n",
    "    rows=5,\n",
    ")\n",
    "\n",
    "analyze_btn = widgets.Button(\n",
    "    description='Analyze Transcript',\n",
    "    disabled=False,\n",
    "    button_style='info',\n",
    "    icon='submit'\n",
    ")\n",
    "\n",
    "upload_btn = widgets.Button(\n",
    "    description='Upload Transcript',\n",
    "    disabled=True,\n",
    "    button_style='info',\n",
    "    icon='submit'\n",
    ")\n",
    "\n",
    "h1 = widgets.HTML(\"<h2><center>Patient Medical Transcript Analyzer</center></h2>\")\n",
    "h2 = widgets.HTML(\"<i><center>Upload a pdf transcript to analyze.</center></i>\")\n",
    "\n",
    "analyze_btn.on_click(run_all_cells_below)\n",
    "\n",
    "h3 = widgets.HTML(\"<b>Please enter the patient's name and your query</b>\")\n",
    "display(widgets.VBox([h1, h2, h3, user_query, widgets.HBox([upload_btn, analyze_btn])]))"
   ]
  },
  {
   "cell_type": "code",
   "execution_count": 9,
   "id": "12cb2d6f-8680-4ba0-97c6-b4cad42cf021",
   "metadata": {},
   "outputs": [
    {
     "name": "stdout",
     "output_type": "stream",
     "text": [
      "<s>### Instruction:\n",
      "Below is an abstract from the medical transcription of a patient. Write a response to answer the question. Answer only from the given abstract. If you can't find the answer in the abstract, say answer not found.\n",
      "\n",
      "### Abstract:\n",
      "PAST MEDICAL HISTORY: He has difficulty climbing stairs, difficulty with airline seats, tying shoes, used to public seating, difficulty walking, high cholesterol, and high blood pressure.  He has asthma and difficulty walking two blocks or going eight to ten steps.  He has sleep apnea and snoring.  He is a diabetic, on medication.  He has joint pain, knee pain, back pain, foot and ankle pain, leg and foot swelling.  He has hemorrhoids. CULTURES TAKEN: None.,PATIENT'S CONDITION: , Stable. REVIEW OF SYSTEMS: Negative for head, neck, heart, lungs, GI, GU, orthopedic, or skin.  He also is positive for gout.  He denies chest pain, heart attack, coronary artery disease, congestive heart failure, arrhythmia, atrial fibrillation, pacemaker, pulmonary embolism, or CVA.  He denies venous insufficiency or thrombophlebitis.  Denies shortness of breath, COPD, or emphysema.  Denies thyroid problems, hip pain, osteoarthritis, rheumatoid arthritis, GERD, hiatal hernia, peptic ulcer disease, gallstones, infected gallbladder, pancreatitis, fatty liver, hepatitis, rectal bleeding, polyps, incontinence of stool, urinary stress incontinence, or cancer.  He denies cellulitis, pseudotumor cerebri, meningitis, or encephalitis.\n",
      "\n",
      "### Question:\n",
      "Describe the medical history of the patient\n",
      "\n",
      "### Response:\n",
      "The patient has a history of difficulty climbing stairs, difficulty with airline seats, tying shoes, used to public seating, difficulty walking, high cholesterol, and high blood pressure. He also has asthma and difficulty walking two blocks or going eight to ten steps. The patient is a diabetic and has joint pain, knee pain, back pain, foot and ankle pain, leg and foot swelling, and hemorrhoids. Cult\n",
      "---------------------------------------------------------\n",
      "\n"
     ]
    }
   ],
   "source": [
    "if user_name.value and user_name.value.capitalize() not in patient_names:\n",
    "    clear_output()\n",
    "    display(HTML(f\"<b><p style='color: red'>No records found for the patient {user_name.value.vapitalize()}</p></b>\"))\n",
    "elif (not user_name.value) and (not user_query.value):\n",
    "    clear_output()\n",
    "    display(HTML(f\"<b><p style='color: red'>Please select a patient and enter a query</p></b>\"))\n",
    "elif not user_query.value:\n",
    "    clear_output()\n",
    "    display(HTML(f\"<b><p style='color: red'>Please enter a query</p></b>\"))\n",
    "elif user_name.value:\n",
    "    loader = DirectoryLoader('transcript-docs/', glob=f\"{user_name.value.capitalize()}/*.txt\")\n",
    "    documents = loader.load()\n",
    "    docs = custom_splitter(documents)\n",
    "    \n",
    "    qdrant = Qdrant.from_documents(\n",
    "        docs, embeddings, \n",
    "        location=\":memory:\",  # Local mode with in-memory storage only\n",
    "        collection_name=user_name.value,\n",
    "    )\n",
    "\n",
    "    search_results = qdrant.similarity_search_with_score(user_query.value, k=3)\n",
    "    relevant_prompts = \" \".join([r[0].page_content for r in search_results])\n",
    "    relevant_docs = [r[0].metadata[\"source\"] for r in search_results]\n",
    "\n",
    "    prompt = f\"\"\"### Instruction:\n",
    "Below is an abstract from the medical transcription of a patient. Write a response to answer the question. Answer only from the given abstract. If you can't find the answer in the abstract, say answer not found.\n",
    "\n",
    "### Abstract:\n",
    "{relevant_prompts}\n",
    "\n",
    "### Question:\n",
    "{user_query.value}\n",
    "\n",
    "### Response:\n",
    "\"\"\"\n",
    "\n",
    "    inputs = tokenizer(prompt, return_tensors=\"pt\")\n",
    "    input_ids = inputs[\"input_ids\"].cuda()\n",
    "\n",
    "    generation_config = GenerationConfig(temperature=0.6, top_p=0.95, repetition_penalty=1.15)\n",
    "\n",
    "    generation_output = model.generate(input_ids=input_ids, generation_config=generation_config,\n",
    "                                       return_dict_in_generate=True, output_scores=False, max_new_tokens=100)\n",
    "\n",
    "    for s in generation_output.sequences:\n",
    "        print(tokenizer.decode(s))\n",
    "        print(\"---------------------------------------------------------\\n\")"
   ]
  },
  {
   "cell_type": "markdown",
   "id": "cf98a244-d4f6-40d6-ad37-7b9796c8622c",
   "metadata": {},
   "source": [
    "### Transcript Analyzer"
   ]
  },
  {
   "cell_type": "code",
   "execution_count": 12,
   "id": "d9168305-c4a0-432e-87f5-e1ba612380e7",
   "metadata": {},
   "outputs": [],
   "source": [
    "transcript = open(f\"transcript-docs/Shannon/Visit-1.txt\").read()"
   ]
  },
  {
   "cell_type": "code",
   "execution_count": 7,
   "id": "618c8057-def9-4fa9-bcb9-3f66bd7e4bc7",
   "metadata": {},
   "outputs": [
    {
     "data": {
      "text/html": [
       "<b>Patient Demographic or Personal Information:</b>"
      ],
      "text/plain": [
       "<IPython.core.display.HTML object>"
      ]
     },
     "metadata": {},
     "output_type": "display_data"
    },
    {
     "name": "stdout",
     "output_type": "stream",
     "text": [
      "Patient Age: 42\n",
      "Patient Height: 5'9\"\n",
      "Patient Current Weight: 344 pounds\n",
      "\n"
     ]
    },
    {
     "data": {
      "text/html": [
       "<b>Chief Complaint:</b>"
      ],
      "text/plain": [
       "<IPython.core.display.HTML object>"
      ]
     },
     "metadata": {},
     "output_type": "display_data"
    },
    {
     "name": "stdout",
     "output_type": "stream",
     "text": [
      "The chief complaint is not explicitly stated in the provided transcript.\n",
      "\n"
     ]
    },
    {
     "data": {
      "text/html": [
       "<b>History of Present Illness:</b>"
      ],
      "text/plain": [
       "<IPython.core.display.HTML object>"
      ]
     },
     "metadata": {},
     "output_type": "display_data"
    },
    {
     "name": "stdout",
     "output_type": "stream",
     "text": [
      "The patient, ABC, is seeking consultation for laparoscopic gastric bypass due to being overweight for ten years and experiencing difficulties such as getting tired easily, not exercising, and having trouble losing weight.\n",
      "\n"
     ]
    },
    {
     "data": {
      "text/html": [
       "<b>Medical History:</b>"
      ],
      "text/plain": [
       "<IPython.core.display.HTML object>"
      ]
     },
     "metadata": {},
     "output_type": "display_data"
    },
    {
     "name": "stdout",
     "output_type": "stream",
     "text": [
      "The patient has a history of difficulty climbing stairs, difficulty with airline seats, tying shoes, using to public seating, difficulty walking, high cholesterol, high blood pressure, asthma, difficulty walking two blocks or going eight to ten steps, sleep apnea, snoring, joint pain, knee pain, back pain, foot and ankle pain, leg and foot swelling, hemorrhoids, and obesity.\n",
      "\n"
     ]
    },
    {
     "data": {
      "text/html": [
       "<b>Physical Examination:</b>"
      ],
      "text/plain": [
       "<IPython.core.display.HTML object>"
      ]
     },
     "metadata": {},
     "output_type": "display_data"
    },
    {
     "name": "stdout",
     "output_type": "stream",
     "text": [
      "The patient's physical examination revealed positive wheezing bilaterally, a regular heart rhythm and rate, and soft and supple neck. The abdomen was soft, and there was 1+ pitting edema.\n",
      "\n"
     ]
    },
    {
     "data": {
      "text/html": [
       "<b>Assessment and Plan:</b>"
      ],
      "text/plain": [
       "<IPython.core.display.HTML object>"
      ]
     },
     "metadata": {},
     "output_type": "display_data"
    },
    {
     "name": "stdout",
     "output_type": "stream",
     "text": [
      "Assessment and Plan: The patient has been recommended for laparoscopic gastric bypass surgery after undergoing a consultation. A detailed explanation of the risks and potential complications associated with the procedure was provided to the patient, and they expressed their willingness to proceed with the workup and evaluation process. They will require several tests and evaluations, including an upper endoscopy, a sleep study, and H. pylori testing. Once all necessary tests\n",
      "\n"
     ]
    }
   ],
   "source": [
    "sections = [\"Patient Demographic or Personal Information\", \"Chief Complaint\", \"History of Present Illness\", \"Medical History\", \"Review of Systems (ROS)\",\n",
    "            \"Physical Examination\", \"Diagnostic Tests\", \"Assessment and Plan\", \"Discharge Summary\", \"Medication Reconciliation\"]\n",
    "for s in sections:\n",
    "    prompt = f\"\"\"### Instruction:\n",
    "Below is a transcribed medical report of a patient. Write a response to answer the question. Answer only from the given abstract.\n",
    "\n",
    "### Report:\n",
    "{transcript}\n",
    "\n",
    "### Question:\n",
    "Find the part of this transcript that talks about {s} and summarize that part in two or less lines. If it's not mentioned anywhere, say Not Found.\n",
    "\n",
    "### Response:\n",
    "\"\"\"\n",
    "    inputs = tokenizer(prompt, return_tensors=\"pt\")\n",
    "    input_ids = inputs[\"input_ids\"].cuda()\n",
    "\n",
    "    generation_config = GenerationConfig(temperature=0.6, top_p=0.95, repetition_penalty=1.15)\n",
    "\n",
    "    generation_output = model.generate(input_ids=input_ids, generation_config=generation_config,\n",
    "                                       return_dict_in_generate=True, output_scores=False, max_new_tokens=100)\n",
    "\n",
    "    for out in generation_output.sequences:\n",
    "        out = tokenizer.decode(out)\n",
    "        out = out.split(\"### Response:\")[1].split(\"</s>\")[0].strip()\n",
    "        if \"not found\" not in out.lower() and \"not mention\" not in out.lower() and \"not include\" not in out.lower():\n",
    "            display(HTML(f\"<b>{s}:</b>\"))\n",
    "            print(out + \"\\n\")"
   ]
  },
  {
   "cell_type": "code",
   "execution_count": null,
   "id": "5707c390-9b03-4bde-ba1e-675b52a76c44",
   "metadata": {},
   "outputs": [],
   "source": []
  },
  {
   "cell_type": "markdown",
   "id": "25966d62-e20d-471c-bcd7-8948cc72d5e0",
   "metadata": {},
   "source": [
    "### Treatment Plan"
   ]
  },
  {
   "cell_type": "code",
   "execution_count": 31,
   "id": "79627d11-5956-4e10-89af-83eb7d03e9ca",
   "metadata": {},
   "outputs": [],
   "source": [
    "def prompt_model(prompt):\n",
    "    inputs = tokenizer(prompt, return_tensors=\"pt\")\n",
    "    input_ids = inputs[\"input_ids\"].cuda()\n",
    "\n",
    "    generation_config = GenerationConfig(temperature=0.6, top_p=0.95, repetition_penalty=1.15)\n",
    "\n",
    "    generation_output = model.generate(input_ids=input_ids, generation_config=generation_config,\n",
    "                                       return_dict_in_generate=True, output_scores=False, max_new_tokens=500)\n",
    "\n",
    "    for out in generation_output.sequences:\n",
    "        out = tokenizer.decode(out)\n",
    "        out = out.split(\"### Response:\")[1].split(\"</s>\")[0].strip()\n",
    "        if \"not found\" not in out.lower() and \"not mention\" not in out.lower() and \"not include\" not in out.lower():\n",
    "            return out\n",
    "    return None"
   ]
  },
  {
   "cell_type": "code",
   "execution_count": 23,
   "id": "7da95d54-0294-4176-a765-a2ce2dfde3ff",
   "metadata": {},
   "outputs": [
    {
     "data": {
      "text/html": [
       "<b>----- Extracted Symptoms -----</b>"
      ],
      "text/plain": [
       "<IPython.core.display.HTML object>"
      ]
     },
     "metadata": {},
     "output_type": "display_data"
    },
    {
     "name": "stdout",
     "output_type": "stream",
     "text": [
      "HISTORY OF PRESENT ILLNESS:\n",
      "\n",
      "* Overweight for ten years (since age 33)\n",
      "* Highest weight: 358 pounds\n",
      "* Lowest weight: 260 pounds\n",
      "* BMI: 51\n",
      "* Difficulty climbing stairs, difficulty with airline seats, tying shoes, etc.\n",
      "* Joint pain, knee pain, back pain, foot and ankle pain, leg and foot swelling, hemorrhoids\n",
      "* High cholesterol, high blood pressure, asthma, difficulty breathing, sleep apnea, snoring\n",
      "* Diabetic, on medication\n",
      "* Current smoker (stopped two weeks ago), occasional alcohol consumption (10-12 drinks per week)\n",
      "\n",
      "PAST MEDICAL HISTORY:\n",
      "\n",
      "* Orthopedic surgery\n",
      "\n",
      "SOCIAL H \n",
      "\n"
     ]
    },
    {
     "data": {
      "text/html": [
       "<b>----- Medical History -----</b>"
      ],
      "text/plain": [
       "<IPython.core.display.HTML object>"
      ]
     },
     "metadata": {},
     "output_type": "display_data"
    },
    {
     "name": "stdout",
     "output_type": "stream",
     "text": [
      "The patient's medical history includes difficulty climbing stairs, difficulty with airline seats, tying shoes, using to public seating, difficulty walking, high cholesterol, high blood pressure, asthma, difficulty walking two blocks or going eight to ten steps, having sleep apnea and snoring, being a diabetic, having joint pain, knee pain, back pain, foot and ankle pain, leg and foot swelling, hemorrhoids, obesity, heart disease, and diabetes in family history. \n",
      "\n"
     ]
    },
    {
     "data": {
      "text/html": [
       "<b>----- Diagnosis or Treatment Plan -----</b>"
      ],
      "text/plain": [
       "<IPython.core.display.HTML object>"
      ]
     },
     "metadata": {},
     "output_type": "display_data"
    },
    {
     "name": "stdout",
     "output_type": "stream",
     "text": [
      "Based on the provided information, it appears that the patient is experiencing multiple health issues related to their obesity, including joint pain, difficulty climbing stairs and walking, sleep apnea, high blood pressure, high cholesterol, and diabetes. A comprehensive treatment plan would likely involve lifestyle changes such as dietary modifications and increased physical activity, as well as management of any underlying conditions through medication and other treatments as appropriate. Additionally, addressing the patient's smoking habit and occasional alcohol consumption may also be important in improving their overall health and reducing the risk of further complications. \n",
      "\n"
     ]
    }
   ],
   "source": [
    "prompt = f\"\"\"### Instruction:\n",
    "Below is a transcribed medical report of a patient. Answer the below question truthfully and only from the given abstract.\n",
    "\n",
    "### Report:\n",
    "\\\"\\\"\\\"{transcript}\\\"\\\"\\\"\n",
    "\n",
    "### Question:\n",
    "Extract all the medical symptoms from this report. If it's not mentioned anywhere, say Not Found.\n",
    "\n",
    "### Response:\n",
    "\"\"\"\n",
    "symp = prompt_model(prompt)\n",
    "\n",
    "prompt = f\"\"\"### Instruction:\n",
    "Below is a transcribed medical report of a patient. Answer the below question truthfully and only from the given abstract.\n",
    "\n",
    "### Report:\n",
    "\\\"\\\"\\\"{transcript}\\\"\\\"\\\"\n",
    "\n",
    "### Question:\n",
    "Extract the medical history of the patient from this report. If it's not mentioned anywhere, say Not Found.\n",
    "\n",
    "### Response:\n",
    "\"\"\"\n",
    "hist = prompt_model(prompt)\n",
    "\n",
    "prompt = f\"\"\"### Instruction:\n",
    "Below are symptoms and medical history for a patient. Answer the below question truthfully and only from the given abstract.\n",
    "\n",
    "### Symptoms:\n",
    "\\\"\\\"\\\"{symp}\\\"\\\"\\\"\n",
    "\n",
    "### Medical History:\n",
    "\\\"\\\"\\\"{hist}\\\"\\\"\\\"\n",
    "\n",
    "### Question:\n",
    "Create a diagnosis or treatment plan for the patient based on their medical history and symptoms.\n",
    "\n",
    "### Response:\n",
    "\"\"\"\n",
    "treat = prompt_model(prompt)\n",
    "\n",
    "display(HTML(\"<b>----- Extracted Symptoms -----</b>\"))\n",
    "print(symp, \"\\n\")\n",
    "\n",
    "display(HTML(\"<b>----- Medical History -----</b>\"))\n",
    "print(hist, \"\\n\")\n",
    "\n",
    "display(HTML(\"<b>----- Diagnosis or Treatment Plan -----</b>\"))\n",
    "print(treat, \"\\n\")"
   ]
  },
  {
   "cell_type": "markdown",
   "id": "22116d78-43f1-4617-ae57-dedc4fd2407e",
   "metadata": {},
   "source": [
    "### Adverse Reactions"
   ]
  },
  {
   "cell_type": "code",
   "execution_count": 24,
   "id": "0d1b27c8-2471-435d-a247-e63601f750af",
   "metadata": {},
   "outputs": [
    {
     "data": {
      "text/html": [
       "<b>----- Current Medications -----</b>"
      ],
      "text/plain": [
       "<IPython.core.display.HTML object>"
      ]
     },
     "metadata": {},
     "output_type": "display_data"
    },
    {
     "name": "stdout",
     "output_type": "stream",
     "text": [
      "Current Medications: Diovan (name unknown), Crestor, and Tricor \n",
      "\n"
     ]
    },
    {
     "data": {
      "text/html": [
       "<b>----- Medical History -----</b>"
      ],
      "text/plain": [
       "<IPython.core.display.HTML object>"
      ]
     },
     "metadata": {},
     "output_type": "display_data"
    },
    {
     "name": "stdout",
     "output_type": "stream",
     "text": [
      "The patient's medical history includes difficulty climbing stairs, difficulty with airline seats, tying shoes, using to public seating, difficulty walking, high cholesterol, high blood pressure, asthma, difficulty walking two blocks or going eight to ten steps, having sleep apnea and snoring, being a diabetic, having joint pain, knee pain, back pain, foot and ankle pain, leg and foot swelling, hemorrhoids, obesity, heart disease, and diabetes in family history. \n",
      "\n"
     ]
    },
    {
     "data": {
      "text/html": [
       "<b>----- Possible Adverse Reactions -----</b>"
      ],
      "text/plain": [
       "<IPython.core.display.HTML object>"
      ]
     },
     "metadata": {},
     "output_type": "display_data"
    },
    {
     "name": "stdout",
     "output_type": "stream",
     "text": [
      "Based on the provided medical history and current medications, there are several potential drug interactions or adverse reactions that should be considered. These include:\n",
      "\n",
      "1. Drug Interaction between Diovan and Crestor - Both of these medications are used to treat hypertension and may interact if taken together. It is important to monitor blood pressure levels closely if both drugs are prescribed.\n",
      "2. Adverse Reaction to Diovan - The patient's difficulty climbing stairs and difficulty with airline seats could be related to side effects of the medication Diovan. It is important to discuss this with the patient's healthcare provider.\n",
      "3. Adverse Reaction to Crestor - The patient's difficulty with airline seats could also be related to side effects of Crestor. It is important to discuss this with the patient's healthcare provider.\n",
      "4. Potential Adverse Reaction to Tricor - The \n",
      "\n"
     ]
    }
   ],
   "source": [
    "prompt = f\"\"\"### Instruction:\n",
    "Below is a transcribed medical report of a patient. Answer the below question truthfully and only from the given abstract.\n",
    "\n",
    "### Report:\n",
    "\\\"\\\"\\\"{transcript}\\\"\\\"\\\"\n",
    "\n",
    "### Question:\n",
    "Extract the patient's current medication from this report. If it's not mentioned anywhere, say Not Found.\n",
    "\n",
    "### Response:\n",
    "\"\"\"\n",
    "med = prompt_model(prompt)\n",
    "\n",
    "prompt = f\"\"\"### Instruction:\n",
    "Below are current medication and medical history for a patient. Answer the below question truthfully and only from the given abstract.\n",
    "\n",
    "### Current Medication:\n",
    "\\\"\\\"\\\"{med}\\\"\\\"\\\"\n",
    "\n",
    "### Medical History:\n",
    "\\\"\\\"\\\"{hist}\\\"\\\"\\\"\n",
    "\n",
    "### Question:\n",
    "Identify potential drug interactions or adverse reactions based on their medical history and current medications.\n",
    "\n",
    "### Response:\n",
    "\"\"\"\n",
    "react = prompt_model(prompt)\n",
    "\n",
    "display(HTML(\"<b>----- Current Medications -----</b>\"))\n",
    "print(med, \"\\n\")\n",
    "\n",
    "display(HTML(\"<b>----- Medical History -----</b>\"))\n",
    "print(hist, \"\\n\")\n",
    "\n",
    "display(HTML(\"<b>----- Possible Adverse Reactions -----</b>\"))\n",
    "print(react, \"\\n\")"
   ]
  },
  {
   "cell_type": "markdown",
   "id": "8195c91a-9f23-45a7-8e3b-d97de8de1017",
   "metadata": {},
   "source": [
    "### Risk of Developing Possible Future Medical Condition"
   ]
  },
  {
   "cell_type": "code",
   "execution_count": 30,
   "id": "293e86d6-b1f4-4c2f-b485-f372a2f35fff",
   "metadata": {},
   "outputs": [
    {
     "data": {
      "text/html": [
       "<b>----- Demographic Information -----</b>"
      ],
      "text/plain": [
       "<IPython.core.display.HTML object>"
      ]
     },
     "metadata": {},
     "output_type": "display_data"
    },
    {
     "name": "stdout",
     "output_type": "stream",
     "text": [
      "Name: Shannon\n",
      "Age: 42\n",
      "BMI: 51 (344 pounds)\n",
      "Height: 5'9\" \n",
      "\n"
     ]
    },
    {
     "data": {
      "text/html": [
       "<b>----- Medical History -----</b>"
      ],
      "text/plain": [
       "<IPython.core.display.HTML object>"
      ]
     },
     "metadata": {},
     "output_type": "display_data"
    },
    {
     "name": "stdout",
     "output_type": "stream",
     "text": [
      "The patient's medical history includes difficulty climbing stairs, difficulty with airline seats, tying shoes, using to public seating, difficulty walking, high cholesterol, high blood pressure, asthma, difficulty walking two blocks or going eight to ten steps, having sleep apnea and snoring, being a diabetic, having joint pain, knee pain, back pain, foot and ankle pain, leg and foot swelling, hemorrhoids, obesity, heart disease, and diabetes in family history. \n",
      "\n"
     ]
    },
    {
     "data": {
      "text/html": [
       "<b>----- Possible Future Medical Conditions -----</b>"
      ],
      "text/plain": [
       "<IPython.core.display.HTML object>"
      ]
     },
     "metadata": {},
     "output_type": "display_data"
    },
    {
     "name": "stdout",
     "output_type": "stream",
     "text": [
      "As a doctor, I would say that this patient is at a very high risk of developing several medical conditions due to their medical history and demographic information. The patient has a BMI of 51 which puts them in the morbidly obese category, increasing their risk of developing conditions such as heart disease, stroke, type 2 diabetes, and certain types of cancer. Additionally, the patient's difficulty with physical activities such as climbing stairs, walking, and standing for long periods increases their risk of developing musculoskeletal disorders such as osteoarthritis. Furthermore, the patient's history of high cholesterol, high blood pressure, and sleep apnea also increase their risk of developing cardiovascular diseases and other chronic conditions. It is important that the patient works closely with their healthcare provider to manage these risks through lifestyle modifications and appropriate medications. \n",
      "\n"
     ]
    }
   ],
   "source": [
    "prompt = f\"\"\"### Instruction:\n",
    "Below is a transcribed medical report of a patient. Answer the below question truthfully and only from the given abstract.\n",
    "\n",
    "### Report:\n",
    "\\\"\\\"\\\"{transcript}\\\"\\\"\\\"\n",
    "\n",
    "### Question:\n",
    "Extract the patient's demographic information such as name, age, ethnicity, weight, etc from this report. If it's not mentioned anywhere, say Not Found.\n",
    "\n",
    "### Response:\n",
    "\"\"\"\n",
    "demo = prompt_model(prompt)\n",
    "\n",
    "prompt = f\"\"\"### Instruction:\n",
    "Below are the demographic information and medical history for a patient. Answer the below question truthfully and only from the given abstract.\n",
    "\n",
    "### Current Medication:\n",
    "\\\"\\\"\\\"{demo}\\\"\\\"\\\"\n",
    "\n",
    "### Medical History:\n",
    "\\\"\\\"\\\"{hist}\\\"\\\"\\\"\n",
    "\n",
    "### Question:\n",
    "Imagine you're a doctor. Predict the likelihood of the patient developing a particular medical condition based on their medical history and demographic information.\n",
    "\n",
    "### Response:\n",
    "\"\"\"\n",
    "cond = prompt_model(prompt)\n",
    "\n",
    "display(HTML(\"<b>----- Demographic Information -----</b>\"))\n",
    "print(demo, \"\\n\")\n",
    "\n",
    "display(HTML(\"<b>----- Medical History -----</b>\"))\n",
    "print(hist, \"\\n\")\n",
    "\n",
    "display(HTML(\"<b>----- Possible Future Medical Conditions -----</b>\"))\n",
    "print(cond, \"\\n\")"
   ]
  },
  {
   "cell_type": "markdown",
   "id": "64927f3e-6d73-475a-abdf-a84e17a93671",
   "metadata": {},
   "source": [
    "### Issues in the report and ways to improve it"
   ]
  },
  {
   "cell_type": "code",
   "execution_count": 34,
   "id": "da1ca229-5bdc-4e10-aeff-e3d8e5dfc13a",
   "metadata": {},
   "outputs": [
    {
     "data": {
      "text/html": [
       "<b>----- Possible Errors and suggestions -----</b>"
      ],
      "text/plain": [
       "<IPython.core.display.HTML object>"
      ]
     },
     "metadata": {},
     "output_type": "display_data"
    },
    {
     "name": "stdout",
     "output_type": "stream",
     "text": [
      "There are several errors, inconsistencies, and issues in this report that can affect the accuracy and quality of care provided to the patient. Some of the identified issues are:\n",
      "\n",
      "1. Missing information: The report is missing some basic information such as the date of consultation, follow-up plans, and specific treatment recommendations. These details are essential for effective communication between healthcare providers and patients.\n",
      "2. Incomplete medical history: Although the report provides a detailed medical history, there are some sections that seem incomplete. For example, the social history section only mentions the patient’s current marital status and smoking habits but does not cover other important factors such as occupation, leisure activities, and family support.\n",
      "3. Conflicting information: There are some conflicting statements in the report. For instance, the patient claims that he has difficulty climbing stairs but later states that he can walk up to eight blocks without resting. This could indicate a discrepancy in the patient’s reported symptoms.\n",
      "4. Spelling and grammar errors: The report contains spelling and grammar errors that may compromise its clarity and professionalism. For example, “ideal body weight” is misspelled as “ideal bodily weight.”\n",
      "5. Unclear diagnoses: While the report lists various systems reviewed, it is unclear what specific diagnoses the patient may have based on the presented symptoms. It would be helpful if the report explicitly stated the suspected conditions and how they were ruled out.\n",
      "\n",
      "To address these issues, the following suggestions can be made:\n",
      "\n",
      "1. Ensure completeness: Healthcare professionals should ensure that all relevant information is included in the report, such as follow-up plans and specific treatment recommendations.\n",
      "2. Thorough documentation: Medical histories should be documented thoroughly, covering all aspects of the patient’s health, including social and occupational history.\n",
      "3. Clarify conflicts: Any conflicting information should be reconciled to avoid confusion and miscommunication.\n",
      "4. Proofread: Reports should be proofread carefully to eliminate spelling and grammar errors, ensuring professionalism and accuracy.\n",
      "5. Clear diagnoses: Healthcare professionals should clearly state the suspected conditions and how they were ruled out to provide clear guidance for further management.\n"
     ]
    }
   ],
   "source": [
    "prompt = f\"\"\"### Instruction:\n",
    "Below is a transcribed medical report of a patient. Answer the below question truthfully and only from the given abstract.\n",
    "\n",
    "### Report:\n",
    "\\\"\\\"\\\"{transcript}\\\"\\\"\\\"\n",
    "\n",
    "### Question:\n",
    "Analyze this report and identify any errors, inconsistencies, or other issues. Also, suggest ways to improve them\n",
    "\n",
    "### Response:\n",
    "\"\"\"\n",
    "err = prompt_model(prompt)\n",
    "display(HTML(\"<b>----- Possible Errors and suggestions -----</b>\"))\n",
    "print(err)"
   ]
  },
  {
   "cell_type": "markdown",
   "id": "4ff1b75a-765f-48fc-8b23-6bf7ec64ca43",
   "metadata": {},
   "source": [
    "### Automatic Medical Coding"
   ]
  },
  {
   "cell_type": "code",
   "execution_count": 37,
   "id": "e73c9e4b-444e-4efd-9ed9-b9c76c9a952a",
   "metadata": {},
   "outputs": [
    {
     "data": {
      "text/html": [
       "<b>----- Medical Coding -----</b>"
      ],
      "text/plain": [
       "<IPython.core.display.HTML object>"
      ]
     },
     "metadata": {},
     "output_type": "display_data"
    },
    {
     "name": "stdout",
     "output_type": "stream",
     "text": [
      "The given report describes a patient seeking consultation for laparoscopic gastric bypass surgery. The patient is obese with a BMI of 51, has a history of unsuccessful weight loss attempts, and suffers from various medical conditions such as high cholesterol, high blood pressure, diabetes, joint pain, and sleep apnea. The patient reports a history of smoking and alcohol consumption, although he has recently quit smoking and reduced his alcohol intake.\n",
      "\n",
      "Based on the information provided in the report, the following ICD-10 codes could be assigned:\n",
      "\n",
      "* F33.2 (Overweight)\n",
      "* F33.9 (Obese)\n",
      "* N16.8 (Unspecified asthenia)\n",
      "* T81.9 (Other specified symptoms, not elsewhere classified)\n",
      "* R65.10 (Polycythemia)\n",
      "* D35.2 (High blood pressure, uncomplicated)\n",
      "* D40.2 (Sleep apnea syndrome)\n",
      "* K65.0 (Chronic bronchitis)\n",
      "* J45.9 (Chronic obstructive pulmonary disease, unspecified)\n",
      "* D35.6 (Hypertensive heart disease, left ventricular dysfunction)\n",
      "* D45.9 (Coronary atherosclerosis of native coronary artery without angina pectoris)\n",
      "* D42.8 (Congestive heart failure, left ventricular dysfunction)\n",
      "* D63.0 (Asthma, uncomplicated)\n",
      "* D63.1 (Asthma, status post bronchodilator therapy)\n",
      "* D63.2 (Asthma, with other concurrent medical condition)\n",
      "* D63.9 (Asthma, unspecified)\n",
      "* D11.4 (Hemorrhoids, external)\n",
      "* D11.5 (Hemorrhoids, internal)\n",
      "* D11.6 (Hemorrhoids, prolapse)\n",
      "* D11.8 (Hemorrhoidectomy)\n",
      "* D11.9 (Hemorrhoids, unspecified)\n",
      "* O\n"
     ]
    }
   ],
   "source": [
    "prompt = f\"\"\"### Instruction:\n",
    "Below is a transcribed medical report of a patient. Answer the below question truthfully and only from the given abstract.\n",
    "\n",
    "### Report:\n",
    "\\\"\\\"\\\"{transcript}\\\"\\\"\\\"\n",
    "\n",
    "### Question:\n",
    "Analyze this report and create ICD10 codes for it.\n",
    "\n",
    "### Response:\n",
    "\"\"\"\n",
    "code = prompt_model(prompt)\n",
    "display(HTML(\"<b>----- Medical Coding -----</b>\"))\n",
    "print(code)"
   ]
  },
  {
   "cell_type": "markdown",
   "id": "84cad7a7-e027-4060-97a0-813ce4ff500e",
   "metadata": {},
   "source": [
    "<b>--- TODO ---</b>"
   ]
  },
  {
   "cell_type": "code",
   "execution_count": 38,
   "id": "c59cbfe6-3298-4bcf-9e84-a13440f70e92",
   "metadata": {},
   "outputs": [
    {
     "data": {
      "text/html": [
       "<b>----- Invoices and Claims generation -----</b>"
      ],
      "text/plain": [
       "<IPython.core.display.HTML object>"
      ]
     },
     "metadata": {},
     "output_type": "display_data"
    },
    {
     "name": "stdout",
     "output_type": "stream",
     "text": [
      "I am sorry, but generating an invoice and claim requires specific information about services provided and costs associated with them, which is not available in this transcript. This report provides general information about the patient's medical history, current condition, and planned treatment options, but it does not contain enough details to generate an invoice or claim.\n"
     ]
    }
   ],
   "source": [
    "prompt = f\"\"\"### Instruction:\n",
    "Below is a transcribed medical report of a patient. Answer the below question truthfully and only from the given abstract.\n",
    "\n",
    "### Report:\n",
    "\\\"\\\"\\\"{transcript}\\\"\\\"\\\"\n",
    "\n",
    "### Question:\n",
    "Generate an invoice and claims based on the data available in this report.\n",
    "\n",
    "### Response:\n",
    "\"\"\"\n",
    "inv = prompt_model(prompt)\n",
    "display(HTML(\"<b>----- Invoices and Claims generation -----</b>\"))\n",
    "print(inv)"
   ]
  },
  {
   "cell_type": "code",
   "execution_count": null,
   "id": "792b0907-fcc3-4ec8-96dd-f0fc8bca4a7f",
   "metadata": {},
   "outputs": [],
   "source": []
  },
  {
   "cell_type": "code",
   "execution_count": null,
   "id": "2515c9a6-5fd2-4e58-8374-63373ae0ffef",
   "metadata": {},
   "outputs": [],
   "source": []
  }
 ],
 "metadata": {
  "environment": {
   "kernel": "py310",
   "name": "common-cu110.m107",
   "type": "gcloud",
   "uri": "gcr.io/deeplearning-platform-release/base-cu110:m107"
  },
  "kernelspec": {
   "display_name": "Python 3 (ipykernel)",
   "language": "python",
   "name": "python3"
  },
  "language_info": {
   "codemirror_mode": {
    "name": "ipython",
    "version": 3
   },
   "file_extension": ".py",
   "mimetype": "text/x-python",
   "name": "python",
   "nbconvert_exporter": "python",
   "pygments_lexer": "ipython3",
   "version": "3.9.15"
  }
 },
 "nbformat": 4,
 "nbformat_minor": 5
}
